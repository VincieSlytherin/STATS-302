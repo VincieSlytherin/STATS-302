{
 "cells": [
  {
   "cell_type": "markdown",
   "metadata": {},
   "source": [
    "# Homework 1 - Numerical programming & Regression"
   ]
  },
  {
   "cell_type": "markdown",
   "metadata": {},
   "source": [
    "## *Ran Ju*\n",
    "Netid: rj133"
   ]
  },
  {
   "cell_type": "markdown",
   "metadata": {},
   "source": [
    "Instructions for homework assignments can be found on Sakai under lessons."
   ]
  },
  {
   "cell_type": "markdown",
   "metadata": {},
   "source": [
    "# 1) Getting started with NumPy\n",
    "### (1 Point)\n",
    "Consider the following table of data that provides the values of a discrete data vector $\\mathbf{x}$ of samples from the random variable $X$, where each entry in $\\mathbf{x}$ is given as $x_i$.\n",
    "\n",
    "*Table 1. Dataset N=5 observations*\n",
    "\n",
    "|        | $x_0$ | $x_1$ | $x_2$ | $x_3$ | $x_4$ |\n",
    "|------  |-------|-------|-------|-------|-------|\n",
    "|$\\textbf{x}$| 2     | 3     | 10    | -1    | -1    |\n",
    "\n",
    "Use NumPy to compute the (a) mean, (b) variance, and (c) median of the data. \n",
    "\n",
    "*Your answer should include the definition of mean, median, and variance in the context of discrete data.*"
   ]
  },
  {
   "cell_type": "markdown",
   "metadata": {},
   "source": [
    "**ANSWER**"
   ]
  },
  {
   "cell_type": "markdown",
   "metadata": {},
   "source": [
    "If there is a dataset of $X: x_1, x_2 ,… , x_n$"
   ]
  },
  {
   "cell_type": "markdown",
   "metadata": {},
   "source": [
    "a) mean = $\\frac{1}{n}\\sum_{i=1}^{n} {x_i}$"
   ]
  },
  {
   "cell_type": "markdown",
   "metadata": {},
   "source": [
    "b) variance = $\\frac{1}{n}\\sum_{i=1}^{n} {(x_i-mean)^2}$"
   ]
  },
  {
   "cell_type": "markdown",
   "metadata": {},
   "source": [
    "c) if an array of number is listed in order from smallest to greatest,\n",
    "\n",
    "when there is an odd number of numbers, the median is the middle number; \n",
    "\n",
    "when there is an even number of numbers, the median is the mean of two middle numbers."
   ]
  },
  {
   "cell_type": "code",
   "execution_count": 1,
   "metadata": {},
   "outputs": [
    {
     "name": "stdout",
     "output_type": "stream",
     "text": [
      "The mean of the data is 2.6\n",
      "The variance of the data is 16.240000000000002\n",
      "The median of the data is 2.0\n"
     ]
    }
   ],
   "source": [
    "#imprt the library and set the array of data\n",
    "import numpy as np\n",
    "data=[2,3,10,-1,-1]\n",
    "\n",
    "#calculate mean variance and median use numpy\n",
    "mean=np.mean(data)\n",
    "variance=np.var(data)\n",
    "median=np.median(data)\n",
    "\n",
    "print('The mean of the data is '+str(mean))\n",
    "print('The variance of the data is '+str(variance))\n",
    "print('The median of the data is '+str(median))"
   ]
  },
  {
   "cell_type": "markdown",
   "metadata": {},
   "source": [
    "# 2) Some basic numerical programming\n",
    "### (2 points total)\n",
    "\n",
    "1. Synthesize $n=10^4$ normally distributed data points with mean $\\mu=2$ and a standard deviation of $\\sigma=1$. Call the vector of observations that you generate, $\\textbf{x}$. (*0.5 points*)\n",
    "2. Calculate the mean and standard deviation of $\\textbf{x}$ to validate (1) and provide the result to a precision of four significant figures. (*0.5 points*)\n",
    "3. Plot a histogram of the data in $\\textbf{x}$ with 30 bins (*0.5 points*)\n",
    "4. What is the 90th percentile of $\\textbf{x}$? The 90th percentile is the value below which 90% of observations can be found. (*0.5 points*)"
   ]
  },
  {
   "cell_type": "markdown",
   "metadata": {},
   "source": [
    "**ANSWER**"
   ]
  },
  {
   "cell_type": "code",
   "execution_count": 2,
   "metadata": {},
   "outputs": [],
   "source": [
    "#1. Synthesize data points\n",
    "x=np.random.normal(2,1,10000)"
   ]
  },
  {
   "cell_type": "code",
   "execution_count": 3,
   "metadata": {},
   "outputs": [
    {
     "name": "stdout",
     "output_type": "stream",
     "text": [
      "The mean is 2.0\n",
      "The error of mean is 0.000\n",
      "The standard deviation is 0.990\n",
      "The error of standard deviation is 0.010\n"
     ]
    }
   ],
   "source": [
    "#2. Calculate mean and standard deviation\n",
    "mean=float('{0:.3f}'.format(np.mean(x)))\n",
    "std=float('{0:.3f}'.format(np.std(x)))\n",
    "print('The mean is '+str(mean))\n",
    "print('The error of mean is '+'{0:.3f}'.format(abs((mean-2)/2)))\n",
    "print('The standard deviation is '+'{0:.3f}'.format(std))\n",
    "print('The error of standard deviation is '+'{0:.3f}'.format(abs((std-1)/1)))"
   ]
  },
  {
   "cell_type": "code",
   "execution_count": 4,
   "metadata": {},
   "outputs": [
    {
     "data": {
      "text/plain": [
       "Text(0, 0.5, 'show times y')"
      ]
     },
     "execution_count": 4,
     "metadata": {},
     "output_type": "execute_result"
    },
    {
     "data": {
      "image/png": "[encoded data removed]",
      "text/plain": [
       "<Figure size 432x288 with 1 Axes>"
      ]
     },
     "metadata": {
      "needs_background": "light"
     },
     "output_type": "display_data"
    }
   ],
   "source": [
    "#3. Plot the data\n",
    "from matplotlib import pyplot as plt\n",
    "%matplotlib inline\n",
    "%config lnlineBackend.figure_format = 'retina'\n",
    "\n",
    "plt.hist(x,bins=30)\n",
    "plt.xlabel('random variables of normal distribution x')\n",
    "plt.ylabel('show times y')"
   ]
  },
  {
   "cell_type": "code",
   "execution_count": 5,
   "metadata": {},
   "outputs": [
    {
     "name": "stdout",
     "output_type": "stream",
     "text": [
      "the 90th percentitle of the data is 3.274\n"
     ]
    }
   ],
   "source": [
    "#4 calculate 90th percentile\n",
    "per90=np.percentile(x, 90)\n",
    "print('the 90th percentitle of the data is '+'{0:.3f}'.format(per90))"
   ]
  },
  {
   "cell_type": "markdown",
   "metadata": {},
   "source": [
    "# 3) Speed comparison between vectorized and non-vectorized code\n",
    "### (2 points total)\n",
    "Begin by creating an array of 10 million random numbers using the numpy random.randn module. Compute the sum of the squares first in a for loop (*0.5 points*), then using Numpy's `dot` module (*0.5 points*). \n",
    "\n",
    "[Time how long it takes](https://jakevdp.github.io/PythonDataScienceHandbook/01.07-timing-and-profiling.html) to compute each version and report the results. \n",
    "How many times faster is the vectorized code than the for loop approach? (*1 point*)  "
   ]
  },
  {
   "cell_type": "markdown",
   "metadata": {},
   "source": [
    "**ANSWER**"
   ]
  },
  {
   "cell_type": "code",
   "execution_count": 6,
   "metadata": {},
   "outputs": [],
   "source": [
    "# create the array of random numbers\n",
    "size=10000000\n",
    "data=np.random.randn(size)\n",
    "import time"
   ]
  },
  {
   "cell_type": "code",
   "execution_count": 9,
   "metadata": {},
   "outputs": [
    {
     "name": "stdout",
     "output_type": "stream",
     "text": [
      "CPU times: user 4.32 s, sys: 7.95 ms, total: 4.33 s\n",
      "Wall time: 4.34 s\n"
     ]
    }
   ],
   "source": [
    "%%time \n",
    "#calculate the time use the built-in magic command \n",
    "start=time.time()# the start time of the for loop and this is a number can be used directly\n",
    "sumsquare=0\n",
    "for i in data:# compute the squares in a for loop\n",
    "    sumsquare+=i**2\n",
    "end=time.time()# the end time of the for loop\n",
    "fortime=end-start# the time that the for loop takes and this is a number can be used directly"
   ]
  },
  {
   "cell_type": "code",
   "execution_count": 10,
   "metadata": {},
   "outputs": [
    {
     "name": "stdout",
     "output_type": "stream",
     "text": [
      "CPU times: user 14.9 ms, sys: 1.35 ms, total: 16.3 ms\n",
      "Wall time: 4.38 ms\n"
     ]
    }
   ],
   "source": [
    "%%time\n",
    "start1=time.time()# start time of the numpy dot module\n",
    "datat=data.T# the transpose the the vector of data\n",
    "sumsquare1=np.dot(data,datat)#view it as a matrix to calculate\n",
    "end1=time.time()# the end time\n",
    "dottime=end1-start1# the time the module takes\n"
   ]
  },
  {
   "cell_type": "code",
   "execution_count": 11,
   "metadata": {},
   "outputs": [
    {
     "name": "stdout",
     "output_type": "stream",
     "text": [
      "sum of the square with for loop is 10000505.692254268\n",
      "sum of the square with numpy.dot is 10000505.692254245\n"
     ]
    }
   ],
   "source": [
    "print('sum of the square with for loop is '+str(sumsquare))\n",
    "print('sum of the square with numpy.dot is '+str(sumsquare1))# the result of the two methods are very close"
   ]
  },
  {
   "cell_type": "code",
   "execution_count": 12,
   "metadata": {},
   "outputs": [
    {
     "name": "stdout",
     "output_type": "stream",
     "text": [
      "time use for loop: 4.336482048034668s\n",
      "time use numpy.dot: 0.004365205764770508s\n"
     ]
    }
   ],
   "source": [
    "print('time use for loop: '+str(fortime)+'s')\n",
    "print('time use numpy.dot: '+str(dottime)+'s')# the time calculated by the two ways are almost the same"
   ]
  },
  {
   "cell_type": "code",
   "execution_count": 13,
   "metadata": {},
   "outputs": [
    {
     "name": "stdout",
     "output_type": "stream",
     "text": [
      "The vectorized code is 993.4198481621061 times faster than the for loop approach.\n"
     ]
    }
   ],
   "source": [
    "print('The vectorized code is '+str(fortime/dottime)+' times faster than the for loop approach.')"
   ]
  },
  {
   "cell_type": "markdown",
   "metadata": {},
   "source": [
    "# 4) linear regression and nonlinear transformations.\n",
    "### (5 points total)\n",
    "\n",
    "Together with this notebook you will find training and testing data contained in files \"H1_train.csv\" and \"H1_test.csv\". Your goal is to develop a regression algorithm from the training data that performs well on the test data.\n",
    "\n",
    "*Hint: Use the scikit learn [LinearRegression](http://scikit-learn.org/stable/modules/generated/sklearn.linear_model.LinearRegression.html) module.*\n",
    "\n",
    "**(a)** Create a scatter plot of your training data. (*0.5 points*)\n",
    "\n",
    "**(b)** Estimate a linear regression model ($y = a_0 + a_1 x$) for the training data and calculate both the $R^2$ value and mean square error for the fit of that model for the training data. Also provide the equation representing the estimated model (e.g. $y = a_0 + a_1 x$, but with the estimated coefficients inserted. (*1 point*)\n",
    "\n",
    "**(c)** If features can be nonlinearly transformed, a linear model may incorporate those non-linear feature transformation relationships in the training process. From looking at the scatter plot of the training data, choose a transformation of the predictor variable, $x$ that may make sense for these data. This will be a multiple regression model of the form $y = a_0 + a_1 x_1 + a_2 x_2 + \\ldots + a_n x_n$. Here $x_i$ could be any transformations of x - perhaps it's $\\frac{1}{x}$, $log(x)$, $sin(x)$, $x^k$ (where $k$ is any power of your choosing). Provide the estimated equation for this multiple regression model (e.g. if you chose your predictors to be $x_1 = x$ and $x_2 = log(x)$, your model would be of the form $y = a_0 + a_1 x + a_2 log(x)$. Also provide the $R^2$ and mean square error of the fit for the training data. (*1 point*)\n",
    "\n",
    "**(d)** Using both of the models you created here in (b) and (c), plot the original data (as a scatter plot) and the two curves representing your models (each as a separate line). (*0.5 points*)\n",
    "\n",
    "**(e)** Using the models above, apply them to the test data and estimate the $R^2$ and mean square error of the test dataset.  (*1 point*)\n",
    "\n",
    "**(f)** Which models perform better on the training data, and which on the test data? Why?\n",
    "(*0.5 points*)\n",
    "\n",
    "**(g)** Imagine that the test data were significantly different from the training dataset. How might this affect the predictive capability of your model? Why? (*0.5 points*)"
   ]
  },
  {
   "cell_type": "markdown",
   "metadata": {},
   "source": [
    "**ANSWER**"
   ]
  },
  {
   "cell_type": "code",
   "execution_count": 14,
   "metadata": {},
   "outputs": [],
   "source": [
    "import pandas as pd"
   ]
  },
  {
   "cell_type": "code",
   "execution_count": 15,
   "metadata": {},
   "outputs": [
    {
     "data": {
      "text/html": [
       "<div>\n",
       "<style scoped>\n",
       "    .dataframe tbody tr th:only-of-type {\n",
       "        vertical-align: middle;\n",
       "    }\n",
       "\n",
       "    .dataframe tbody tr th {\n",
       "        vertical-align: top;\n",
       "    }\n",
       "\n",
       "    .dataframe thead th {\n",
       "        text-align: right;\n",
       "    }\n",
       "</style>\n",
       "<table border=\"1\" class=\"dataframe\">\n",
       "  <thead>\n",
       "    <tr style=\"text-align: right;\">\n",
       "      <th></th>\n",
       "      <th>x</th>\n",
       "      <th>y</th>\n",
       "    </tr>\n",
       "  </thead>\n",
       "  <tbody>\n",
       "    <tr>\n",
       "      <td>0</td>\n",
       "      <td>-0.254599</td>\n",
       "      <td>45.835580</td>\n",
       "    </tr>\n",
       "    <tr>\n",
       "      <td>1</td>\n",
       "      <td>5.507143</td>\n",
       "      <td>68.448152</td>\n",
       "    </tr>\n",
       "    <tr>\n",
       "      <td>2</td>\n",
       "      <td>3.319939</td>\n",
       "      <td>-0.951031</td>\n",
       "    </tr>\n",
       "    <tr>\n",
       "      <td>3</td>\n",
       "      <td>1.986585</td>\n",
       "      <td>-4.024992</td>\n",
       "    </tr>\n",
       "    <tr>\n",
       "      <td>4</td>\n",
       "      <td>-2.439814</td>\n",
       "      <td>-16.374826</td>\n",
       "    </tr>\n",
       "  </tbody>\n",
       "</table>\n",
       "</div>"
      ],
      "text/plain": [
       "          x          y\n",
       "0 -0.254599  45.835580\n",
       "1  5.507143  68.448152\n",
       "2  3.319939  -0.951031\n",
       "3  1.986585  -4.024992\n",
       "4 -2.439814 -16.374826"
      ]
     },
     "execution_count": 15,
     "metadata": {},
     "output_type": "execute_result"
    }
   ],
   "source": [
    "train=pd.read_csv('./H1_train.csv')#load training data\n",
    "train=train.drop('Unnamed: 0',axis=1)\n",
    "train.head()"
   ]
  },
  {
   "cell_type": "code",
   "execution_count": 16,
   "metadata": {},
   "outputs": [
    {
     "data": {
      "text/html": [
       "<div>\n",
       "<style scoped>\n",
       "    .dataframe tbody tr th:only-of-type {\n",
       "        vertical-align: middle;\n",
       "    }\n",
       "\n",
       "    .dataframe tbody tr th {\n",
       "        vertical-align: top;\n",
       "    }\n",
       "\n",
       "    .dataframe thead th {\n",
       "        text-align: right;\n",
       "    }\n",
       "</style>\n",
       "<table border=\"1\" class=\"dataframe\">\n",
       "  <thead>\n",
       "    <tr style=\"text-align: right;\">\n",
       "      <th></th>\n",
       "      <th>Unnamed: 0</th>\n",
       "      <th>x</th>\n",
       "      <th>y</th>\n",
       "    </tr>\n",
       "  </thead>\n",
       "  <tbody>\n",
       "    <tr>\n",
       "      <td>0</td>\n",
       "      <td>0</td>\n",
       "      <td>4.925590</td>\n",
       "      <td>43.457301</td>\n",
       "    </tr>\n",
       "    <tr>\n",
       "      <td>1</td>\n",
       "      <td>1</td>\n",
       "      <td>1.393422</td>\n",
       "      <td>7.250231</td>\n",
       "    </tr>\n",
       "    <tr>\n",
       "      <td>2</td>\n",
       "      <td>2</td>\n",
       "      <td>4.074402</td>\n",
       "      <td>-35.916978</td>\n",
       "    </tr>\n",
       "    <tr>\n",
       "      <td>3</td>\n",
       "      <td>3</td>\n",
       "      <td>4.960913</td>\n",
       "      <td>37.753777</td>\n",
       "    </tr>\n",
       "    <tr>\n",
       "      <td>4</td>\n",
       "      <td>4</td>\n",
       "      <td>-0.819965</td>\n",
       "      <td>32.540487</td>\n",
       "    </tr>\n",
       "  </tbody>\n",
       "</table>\n",
       "</div>"
      ],
      "text/plain": [
       "   Unnamed: 0         x          y\n",
       "0           0  4.925590  43.457301\n",
       "1           1  1.393422   7.250231\n",
       "2           2  4.074402 -35.916978\n",
       "3           3  4.960913  37.753777\n",
       "4           4 -0.819965  32.540487"
      ]
     },
     "execution_count": 16,
     "metadata": {},
     "output_type": "execute_result"
    }
   ],
   "source": [
    "test=pd.read_csv('./H1_test.csv')#load test data\n",
    "tes=test.drop('Unnamed: 0',axis=1)\n",
    "test.head()"
   ]
  },
  {
   "cell_type": "code",
   "execution_count": 18,
   "metadata": {
    "scrolled": true
   },
   "outputs": [
    {
     "data": {
      "text/plain": [
       "Text(0, 0.5, 'target value $y$')"
      ]
     },
     "execution_count": 18,
     "metadata": {},
     "output_type": "execute_result"
    },
    {
     "data": {
      "image/png": "[encoded data removed]",
      "text/plain": [
       "<Figure size 432x288 with 1 Axes>"
      ]
     },
     "metadata": {
      "needs_background": "light"
     },
     "output_type": "display_data"
    }
   ],
   "source": [
    "trainx=train.loc[:,'x']#the features\n",
    "trainy=train.loc[:,'y']#the target\n",
    "#a) Create a scatter plot of training data\n",
    "%config lnlineBackend.figure_format = 'retina'\n",
    "plt.scatter(trainx,trainy)\n",
    "plt.title('figure of training data')\n",
    "plt.xlabel('independent variable $x$')\n",
    "plt.ylabel('target value $y$')"
   ]
  },
  {
   "cell_type": "code",
   "execution_count": 19,
   "metadata": {},
   "outputs": [
    {
     "name": "stdout",
     "output_type": "stream",
     "text": [
      "parameters a_0: 17.205\n",
      "parameters a_1: 2.591\n",
      "Mean squared error of the training data using linear regression: 791.4167\n",
      "R^2 of the training data using linear regression is 0.065\n"
     ]
    }
   ],
   "source": [
    "from sklearn import linear_model\n",
    "from sklearn.preprocessing import PolynomialFeatures\n",
    "#b) Estimate the linear regression model\n",
    "degree=1\n",
    "poly=PolynomialFeatures(degree)\n",
    "trainX=poly.fit_transform(trainx[:,np.newaxis])#[x^0, x^1]\n",
    "\n",
    "model=linear_model.LinearRegression()#linear regression\n",
    "model.fit(trainX,trainy)\n",
    "print('parameters a_0: '+'{:.3f}'.format(model.intercept_))\n",
    "print('parameters a_1: '+'{:.3f}'.format(model.coef_[1]))\n",
    "\n",
    "from sklearn.metrics import mean_squared_error\n",
    "print('Mean squared error of the training data using linear regression: %.4f'\n",
    "      % mean_squared_error(trainy, model.predict(trainX)))#calculate mean square error\n",
    "\n",
    "from sklearn.metrics import r2_score\n",
    "r2=r2_score(trainy, model.predict(trainX))\n",
    "print('R^2 of the training data using linear regression is {:.3f}'.format(r2))"
   ]
  },
  {
   "cell_type": "markdown",
   "metadata": {},
   "source": [
    "The linear regression expression is $y=17.205+2.591x$"
   ]
  },
  {
   "cell_type": "code",
   "execution_count": 20,
   "metadata": {},
   "outputs": [
    {
     "name": "stdout",
     "output_type": "stream",
     "text": [
      "parameters a_0: 24.155\n",
      "parameters a_1: -9.252\n",
      "parameters a_2: -2.126\n",
      "parameters a_3: 0.897\n",
      "Mean squared error of the training data using multiple regression model: 510.8850\n",
      "R^2 of the training data using multiple regression model is 0.396\n"
     ]
    }
   ],
   "source": [
    "#c) Multiple regression model\n",
    "degreem=3\n",
    "polym=PolynomialFeatures(degreem)\n",
    "trainXm=polym.fit_transform(trainx[:,np.newaxis])#[x^0, x^1，x^2, x^3]\n",
    "\n",
    "modelm=linear_model.LinearRegression()#multiple degree can be viewed as linear regression after transform the x\n",
    "modelm.fit(trainXm,trainy)\n",
    "print('parameters a_0: '+'{:.3f}'.format(modelm.intercept_))\n",
    "for i in range(degreem):    \n",
    "    print('parameters a_{:d}: '.format(i+1)+'{:.3f}'.format(modelm.coef_[i+1]))\n",
    "\n",
    "print('Mean squared error of the training data using multiple regression model: %.4f'\n",
    "      % mean_squared_error(trainy, modelm.predict(trainXm)))#calculate mean square error\n",
    "\n",
    "r2m=r2_score(trainy, modelm.predict(trainXm))\n",
    "print('R^2 of the training data using multiple regression model is {:.3f}'.format(r2m))"
   ]
  },
  {
   "cell_type": "markdown",
   "metadata": {},
   "source": [
    "The transforemed model is $y=24.155-9.252x-2.126x^2+0.897x^3 $"
   ]
  },
  {
   "cell_type": "code",
   "execution_count": 21,
   "metadata": {},
   "outputs": [
    {
     "data": {
      "image/png": "[encoded data removed]",
      "text/plain": [
       "<Figure size 432x288 with 1 Axes>"
      ]
     },
     "metadata": {
      "needs_background": "light"
     },
     "output_type": "display_data"
    }
   ],
   "source": [
    "#d) plot the scatter and the two curves\n",
    "testx=test.loc[:,'x']\n",
    "testy=test.loc[:,'y']#test data\n",
    "x_plot=np.linspace(np.min(trainx),np.max(trainx),100)# range of x\n",
    "Xplot=poly.fit_transform(x_plot[:,np.newaxis])#test feature for linear regression\n",
    "Xplotm=polym.fit_transform(x_plot[:,np.newaxis])#test feature for multiple degree regression\n",
    "%config lnlineBackend.figure_format = 'retina'\n",
    "plt.scatter(trainx,trainy,label='training measurement')\n",
    "plt.scatter(testx,testy,label='test measurement')\n",
    "plt.plot(x_plot,model.predict(Xplot),label='linear regression')\n",
    "plt.plot(x_plot,modelm.predict(Xplotm),label='3rd degree polynomial')\n",
    "plt.xlabel('independent variable $x$', size=10)\n",
    "plt.ylabel('measured value $y$', size=10)\n",
    "plt.legend(loc=\"upper right\");"
   ]
  },
  {
   "cell_type": "code",
   "execution_count": 22,
   "metadata": {},
   "outputs": [
    {
     "name": "stdout",
     "output_type": "stream",
     "text": [
      "Mean squared error of test data using linear regression: 1116.6632\n",
      "R^2 of the test data using linear regression is -0.133\n",
      "Mean squared error of test data using multiple regression model: 759.5031\n",
      "R^2 of the test data using multiple regression model is 0.229\n"
     ]
    }
   ],
   "source": [
    "#e) test data\n",
    "testx=test.loc[:,'x']\n",
    "testy=test.loc[:,'y']\n",
    "#linear regression\n",
    "testX=poly.fit_transform(testx[:,np.newaxis])\n",
    "print('Mean squared error of test data using linear regression: %.4f'\n",
    "      % mean_squared_error(testy, model.predict(testX)))#calculate mean square error\n",
    "r2=r2_score(testy, model.predict(testX))\n",
    "print('R^2 of the test data using linear regression is {:.3f}'.format(r2))\n",
    "\n",
    "#multiple regression model\n",
    "testXm=polym.fit_transform(testx[:,np.newaxis])\n",
    "print('Mean squared error of test data using multiple regression model: %.4f'\n",
    "      % mean_squared_error(testy, modelm.predict(testXm)))#calculate mean square error\n",
    "r2=r2_score(testy, modelm.predict(testXm))\n",
    "print('R^2 of the test data using multiple regression model is {:.3f}'.format(r2))\n"
   ]
  },
  {
   "cell_type": "markdown",
   "metadata": {},
   "source": [
    "f ). The third degree polynomial perform better on both training data and test data and we can get the conclusion from comparing the mean sqaure error and $R^2$. The third degree polynomial has smaller mean square error and larger $R^2$ means it has closer total error and mean square error which is smaller than the one of linear regression. The third degree polynomial is better because it has more proper degree than the linear regression which is too simple and underfitting."
   ]
  },
  {
   "cell_type": "markdown",
   "metadata": {},
   "source": [
    "g ). The predictive capability of the model will be decreased. Since the model only fits the data points that follow certain rule, when the test data are ssignificantly different from the training data, which means the test data does not follow the rule of training data, the mean value of loss function will be very large which means the low predictive ability of the model."
   ]
  },
  {
   "cell_type": "code",
   "execution_count": 23,
   "metadata": {},
   "outputs": [
    {
     "name": "stdout",
     "output_type": "stream",
     "text": [
      "parameters a_0: 15.496\n",
      "parameters a_1: 2.934\n",
      "parameters a_2: -0.144\n",
      "parameters a_3: -19.666\n",
      "Mean squared error of the training data using multiple regression model: 610.1552\n",
      "R^2 of the training data using multiple regression model is 0.279\n"
     ]
    }
   ],
   "source": [
    "#try some other model\n",
    "import math\n",
    "def newdata(trainx):\n",
    "    train=np.array(trainx) \n",
    "    traindata=[]\n",
    "    for i in train:\n",
    "        traindata.append([i,i**2,math.sin(i)])\n",
    "    return traindata\n",
    "trainsin=newdata(trainx)\n",
    "modelsin=linear_model.LinearRegression()#multiple degree can be viewed as linear regression after transform the x\n",
    "modelsin.fit(trainsin,trainy)\n",
    "\n",
    "print('parameters a_0: '+'{:.3f}'.format(modelsin.intercept_))\n",
    "for i in range(3):    \n",
    "    print('parameters a_{:d}: '.format(i+1)+'{:.3f}'.format(modelsin.coef_[i]))\n",
    "\n",
    "print('Mean squared error of the training data using multiple regression model: %.4f'\n",
    "      % mean_squared_error(trainy, modelsin.predict(trainsin)))#calculate mean square error\n",
    "\n",
    "r2m=r2_score(trainy, modelsin.predict(trainsin))\n",
    "print('R^2 of the training data using multiple regression model is {:.3f}'.format(r2m))"
   ]
  },
  {
   "cell_type": "markdown",
   "metadata": {},
   "source": [
    "The transformed model is $y=15.496+2.934x-0.144x^2-19.666sin(x)$"
   ]
  },
  {
   "cell_type": "code",
   "execution_count": 24,
   "metadata": {},
   "outputs": [
    {
     "data": {
      "image/png": "[encoded data removed]",
      "text/plain": [
       "<Figure size 432x288 with 1 Axes>"
      ]
     },
     "metadata": {
      "needs_background": "light"
     },
     "output_type": "display_data"
    }
   ],
   "source": [
    "#plot the curve\n",
    "%config lnlineBackend.figure_format = 'retina'\n",
    "Xplotsin=newdata(x_plot)\n",
    "plt.scatter(trainx,trainy,label='training measurement')\n",
    "plt.scatter(testx,testy,label='test measurement')\n",
    "plt.plot(x_plot,model.predict(Xplot),label='linear regression')\n",
    "plt.plot(x_plot,modelsin.predict(Xplotsin),label='transformed polynomial')\n",
    "plt.xlabel('independent variable $x$', size=10)\n",
    "plt.ylabel('measured value $y$', size=10)\n",
    "plt.legend(loc=\"upper right\");"
   ]
  },
  {
   "cell_type": "code",
   "execution_count": 25,
   "metadata": {},
   "outputs": [
    {
     "name": "stdout",
     "output_type": "stream",
     "text": [
      "Mean squared error of test data using multiple regression model: 1183.8502\n",
      "R^2 of the test data using multiple regression model is -0.201\n"
     ]
    }
   ],
   "source": [
    "#multiple regression model\n",
    "testXsin=newdata(testx)\n",
    "print('Mean squared error of test data using multiple regression model: %.4f'\n",
    "      % mean_squared_error(testy, modelsin.predict(testXsin)))#calculate mean square error\n",
    "r2=r2_score(testy, modelsin.predict(testXsin))\n",
    "print('R^2 of the test data using multiple regression model is {:.3f}'.format(r2))\n"
   ]
  },
  {
   "cell_type": "markdown",
   "metadata": {},
   "source": [
    "It seems that this model performs well in trainning data but perform bad in the test data. Because it is more complicate than the three degree multiple regession so it will have smaller error when perform on the training data."
   ]
  }
 ],
 "metadata": {
  "kernelspec": {
   "display_name": "Python 3",
   "language": "python",
   "name": "python3"
  },
  "language_info": {
   "codemirror_mode": {
    "name": "ipython",
    "version": 3
   },
   "file_extension": ".py",
   "mimetype": "text/x-python",
   "name": "python",
   "nbconvert_exporter": "python",
   "pygments_lexer": "ipython3",
   "version": "3.7.4"
  },
  "varInspector": {
   "cols": {
    "lenName": 16,
    "lenType": 16,
    "lenVar": 40
   },
   "kernels_config": {
    "python": {
     "delete_cmd_postfix": "",
     "delete_cmd_prefix": "del ",
     "library": "var_list.py",
     "varRefreshCmd": "print(var_dic_list())"
    },
    "r": {
     "delete_cmd_postfix": ") ",
     "delete_cmd_prefix": "rm(",
     "library": "var_list.r",
     "varRefreshCmd": "cat(var_dic_list()) "
    }
   },
   "types_to_exclude": [
    "module",
    "function",
    "builtin_function_or_method",
    "instance",
    "_Feature"
   ],
   "window_display": false
  }
 },
 "nbformat": 4,
 "nbformat_minor": 2
}
