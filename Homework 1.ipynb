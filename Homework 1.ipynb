{
 "cells": [
  {
   "cell_type": "markdown",
   "metadata": {},
   "source": [
    "# Homework 1 - Numerical programming & Regression"
   ]
  },
  {
   "cell_type": "markdown",
   "metadata": {},
   "source": [
    "## *Ran Ju*\n",
    "Netid: rj133"
   ]
  },
  {
   "cell_type": "markdown",
   "metadata": {},
   "source": [
    "Instructions for homework assignments can be found on Sakai under lessons."
   ]
  },
  {
   "cell_type": "markdown",
   "metadata": {},
   "source": [
    "# 1) Getting started with NumPy\n",
    "### (1 Point)\n",
    "Consider the following table of data that provides the values of a discrete data vector $\\mathbf{x}$ of samples from the random variable $X$, where each entry in $\\mathbf{x}$ is given as $x_i$.\n",
    "\n",
    "*Table 1. Dataset N=5 observations*\n",
    "\n",
    "|        | $x_0$ | $x_1$ | $x_2$ | $x_3$ | $x_4$ |\n",
    "|------  |-------|-------|-------|-------|-------|\n",
    "|$\\textbf{x}$| 2     | 3     | 10    | -1    | -1    |\n",
    "\n",
    "Use NumPy to compute the (a) mean, (b) variance, and (c) median of the data. \n",
    "\n",
    "*Your answer should include the definition of mean, median, and variance in the context of discrete data.*"
   ]
  },
  {
   "cell_type": "markdown",
   "metadata": {},
   "source": [
    "**ANSWER**"
   ]
  },
  {
   "cell_type": "markdown",
   "metadata": {},
   "source": [
    "a) mean = $\\frac{1}{n}\\sum_{i=0}^{n} {x_i}$"
   ]
  },
  {
   "cell_type": "markdown",
   "metadata": {},
   "source": [
    "b) variance = $\\frac{1}{n}\\sum_{i=0}^{n} {(x_i-mean)^2}$"
   ]
  },
  {
   "cell_type": "markdown",
   "metadata": {},
   "source": [
    "c) if an array of number is listed in order from smallest to greatest, when there is an odd number of numbers, the median is the middle number; when there is an even number of numbers, the median is the mean of two middle numbers."
   ]
  },
  {
   "cell_type": "code",
   "execution_count": 2,
   "metadata": {},
   "outputs": [
    {
     "name": "stdout",
     "output_type": "stream",
     "text": [
      "The mean of the data is 2.6\n",
      "The variance of the data is 16.240000000000002\n",
      "The median of the data is 2.0\n"
     ]
    }
   ],
   "source": [
    "#imprt the library and set the array of data\n",
    "import numpy as np\n",
    "data=[2,3,10,-1,-1]\n",
    "\n",
    "#calculate mean variance and median\n",
    "mean=np.mean(data)\n",
    "variance=np.var(data)\n",
    "median=np.median(data)\n",
    "\n",
    "print('The mean of the data is '+str(mean))\n",
    "print('The variance of the data is '+str(variance))\n",
    "print('The median of the data is '+str(median))"
   ]
  },
  {
   "cell_type": "markdown",
   "metadata": {},
   "source": [
    "# 2) Some basic numerical programming\n",
    "### (2 points total)\n",
    "\n",
    "1. Synthesize $n=10^4$ normally distributed data points with mean $\\mu=2$ and a standard deviation of $\\sigma=1$. Call the vector of observations that you generate, $\\textbf{x}$. (*0.5 points*)\n",
    "2. Calculate the mean and standard deviation of $\\textbf{x}$ to validate (1) and provide the result to a precision of four significant figures. (*0.5 points*)\n",
    "3. Plot a histogram of the data in $\\textbf{x}$ with 30 bins (*0.5 points*)\n",
    "4. What is the 90th percentile of $\\textbf{x}$? The 90th percentile is the value below which 90% of observations can be found. (*0.5 points*)"
   ]
  },
  {
   "cell_type": "markdown",
   "metadata": {},
   "source": [
    "**ANSWER**"
   ]
  },
  {
   "cell_type": "code",
   "execution_count": 3,
   "metadata": {},
   "outputs": [],
   "source": [
    "#1. Synthesize data points\n",
    "x=np.random.normal(2,1,10000)"
   ]
  },
  {
   "cell_type": "code",
   "execution_count": 4,
   "metadata": {},
   "outputs": [
    {
     "name": "stdout",
     "output_type": "stream",
     "text": [
      "The mean is 2.008\n",
      "The error of mean is 0.004\n",
      "The standard deviation is 1.0\n",
      "The error of standard deviation is 0.000\n"
     ]
    }
   ],
   "source": [
    "#2. Calculate mean and standard deviation\n",
    "mean=float('{0:.3f}'.format(np.mean(x)))\n",
    "std=float('{0:.3f}'.format(np.std(x)))\n",
    "print('The mean is '+str(mean))\n",
    "print('The error of mean is '+'{0:.3f}'.format(abs((mean-2)/2)))\n",
    "print('The standard deviation is '+str(std))\n",
    "print('The error of standard deviation is '+'{0:.3f}'.format(abs((std-1)/1)))"
   ]
  },
  {
   "cell_type": "code",
   "execution_count": 5,
   "metadata": {},
   "outputs": [
    {
     "data": {
      "text/plain": [
       "Text(0, 0.5, 'show times y')"
      ]
     },
     "execution_count": 5,
     "metadata": {},
     "output_type": "execute_result"
    },
    {
     "data": {
      "image/png": "[encoded data removed]",
      "text/plain": [
       "<Figure size 432x288 with 1 Axes>"
      ]
     },
     "metadata": {
      "needs_background": "light"
     },
     "output_type": "display_data"
    }
   ],
   "source": [
    "#3. Plot the data\n",
    "from matplotlib import pyplot as plt\n",
    "%matplotlib inline\n",
    "%config lnlineBackend.figure_format = 'retina'\n",
    "\n",
    "plt.hist(x,bins=30)\n",
    "plt.xlabel('random variables of normal distribution x')\n",
    "plt.ylabel('show times y')"
   ]
  },
  {
   "cell_type": "code",
   "execution_count": 6,
   "metadata": {},
   "outputs": [
    {
     "name": "stdout",
     "output_type": "stream",
     "text": [
      "the 90th percentitle of the data is 3.2991642380901025\n"
     ]
    }
   ],
   "source": [
    "#4 calculate 90th percentile\n",
    "per90=np.percentile(x, 90)\n",
    "print('the 90th percentitle of the data is '+str(per90))"
   ]
  },
  {
   "cell_type": "markdown",
   "metadata": {},
   "source": [
    "# 3) Speed comparison between vectorized and non-vectorized code\n",
    "### (2 points total)\n",
    "Begin by creating an array of 10 million random numbers using the numpy random.randn module. Compute the sum of the squares first in a for loop (*0.5 points*), then using Numpy's `dot` module (*0.5 points*). \n",
    "\n",
    "[Time how long it takes](https://jakevdp.github.io/PythonDataScienceHandbook/01.07-timing-and-profiling.html) to compute each version and report the results. \n",
    "How many times faster is the vectorized code than the for loop approach? (*1 point*)  "
   ]
  },
  {
   "cell_type": "markdown",
   "metadata": {},
   "source": [
    "**ANSWER**"
   ]
  },
  {
   "cell_type": "code",
   "execution_count": 7,
   "metadata": {},
   "outputs": [],
   "source": [
    "size=10000000\n",
    "data=np.random.randn(size)\n"
   ]
  },
  {
   "cell_type": "code",
   "execution_count": 19,
   "metadata": {},
   "outputs": [],
   "source": [
    "import time\n",
    "start=time.time()\n",
    "sumsquare=0\n",
    "for i in range(size):\n",
    "    sumsquare+=data[i]**2\n",
    "end=time.time()\n",
    "fortime=end-start"
   ]
  },
  {
   "cell_type": "code",
   "execution_count": 20,
   "metadata": {},
   "outputs": [],
   "source": [
    "start1=time.time()\n",
    "datat=data[::1]\n",
    "sumsquare1=np.dot(data,datat)\n",
    "end1=time.time()\n",
    "dottime=end1-start1"
   ]
  },
  {
   "cell_type": "code",
   "execution_count": 21,
   "metadata": {},
   "outputs": [
    {
     "name": "stdout",
     "output_type": "stream",
     "text": [
      "sum of the square with for loop is 9995743.816760506\n",
      "sum of the square with numpy.dot is 9995743.816760426\n"
     ]
    }
   ],
   "source": [
    "print('sum of the square with for loop is '+str(sumsquare))\n",
    "print('sum of the square with numpy.dot is '+str(sumsquare1))"
   ]
  },
  {
   "cell_type": "code",
   "execution_count": 22,
   "metadata": {},
   "outputs": [
    {
     "name": "stdout",
     "output_type": "stream",
     "text": [
      "time use for loop: 4.85455322265625ms\n",
      "time use numpy.dot: 0.0039980411529541016ms\n"
     ]
    }
   ],
   "source": [
    "print('time use for loop: '+str(fortime)+'ms')\n",
    "print('time use numpy.dot: '+str(dottime)+'ms')"
   ]
  },
  {
   "cell_type": "code",
   "execution_count": 23,
   "metadata": {},
   "outputs": [
    {
     "name": "stdout",
     "output_type": "stream",
     "text": [
      "The vectorized code is 1214.2329298109607 times faster than the for loop approach.\n"
     ]
    }
   ],
   "source": [
    "print('The vectorized code is '+str(fortime/dottime)+' times faster than the for loop approach.')"
   ]
  },
  {
   "cell_type": "markdown",
   "metadata": {},
   "source": [
    "# 4) linear regression and nonlinear transformations.\n",
    "### (5 points total)\n",
    "\n",
    "Together with this notebook you will find training and testing data contained in files \"H1_train.csv\" and \"H1_test.csv\". Your goal is to develop a regression algorithm from the training data that performs well on the test data.\n",
    "\n",
    "*Hint: Use the scikit learn [LinearRegression](http://scikit-learn.org/stable/modules/generated/sklearn.linear_model.LinearRegression.html) module.*\n",
    "\n",
    "**(a)** Create a scatter plot of your training data. (*0.5 points*)\n",
    "\n",
    "**(b)** Estimate a linear regression model ($y = a_0 + a_1 x$) for the training data and calculate both the $R^2$ value and mean square error for the fit of that model for the training data. Also provide the equation representing the estimated model (e.g. $y = a_0 + a_1 x$, but with the estimated coefficients inserted. (*1 point*)\n",
    "\n",
    "**(c)** If features can be nonlinearly transformed, a linear model may incorporate those non-linear feature transformation relationships in the training process. From looking at the scatter plot of the training data, choose a transformation of the predictor variable, $x$ that may make sense for these data. This will be a multiple regression model of the form $y = a_0 + a_1 x_1 + a_2 x_2 + \\ldots + a_n x_n$. Here $x_i$ could be any transformations of x - perhaps it's $\\frac{1}{x}$, $log(x)$, $sin(x)$, $x^k$ (where $k$ is any power of your choosing). Provide the estimated equation for this multiple regression model (e.g. if you chose your predictors to be $x_1 = x$ and $x_2 = log(x)$, your model would be of the form $y = a_0 + a_1 x + a_2 log(x)$. Also provide the $R^2$ and mean square error of the fit for the training data. (*1 point*)\n",
    "\n",
    "**(d)** Using both of the models you created here in (b) and (c), plot the original data (as a scatter plot) and the two curves representing your models (each as a separate line). (*0.5 points*)\n",
    "\n",
    "**(e)** Using the models above, apply them to the test data and estimate the $R^2$ and mean square error of the test dataset.  (*1 point*)\n",
    "\n",
    "**(f)** Which models perform better on the training data, and which on the test data? Why?\n",
    "(*0.5 points*)\n",
    "\n",
    "**(g)** Imagine that the test data were significantly different from the training dataset. How might this affect the predictive capability of your model? Why? (*0.5 points*)"
   ]
  },
  {
   "cell_type": "markdown",
   "metadata": {},
   "source": [
    "**ANSWER**"
   ]
  },
  {
   "cell_type": "code",
   "execution_count": 25,
   "metadata": {},
   "outputs": [],
   "source": [
    "import pandas as pd"
   ]
  },
  {
   "cell_type": "code",
   "execution_count": 26,
   "metadata": {},
   "outputs": [
    {
     "data": {
      "text/html": [
       "<div>\n",
       "<style scoped>\n",
       "    .dataframe tbody tr th:only-of-type {\n",
       "        vertical-align: middle;\n",
       "    }\n",
       "\n",
       "    .dataframe tbody tr th {\n",
       "        vertical-align: top;\n",
       "    }\n",
       "\n",
       "    .dataframe thead th {\n",
       "        text-align: right;\n",
       "    }\n",
       "</style>\n",
       "<table border=\"1\" class=\"dataframe\">\n",
       "  <thead>\n",
       "    <tr style=\"text-align: right;\">\n",
       "      <th></th>\n",
       "      <th>x</th>\n",
       "      <th>y</th>\n",
       "    </tr>\n",
       "  </thead>\n",
       "  <tbody>\n",
       "    <tr>\n",
       "      <td>0</td>\n",
       "      <td>-0.254599</td>\n",
       "      <td>45.835580</td>\n",
       "    </tr>\n",
       "    <tr>\n",
       "      <td>1</td>\n",
       "      <td>5.507143</td>\n",
       "      <td>68.448152</td>\n",
       "    </tr>\n",
       "    <tr>\n",
       "      <td>2</td>\n",
       "      <td>3.319939</td>\n",
       "      <td>-0.951031</td>\n",
       "    </tr>\n",
       "    <tr>\n",
       "      <td>3</td>\n",
       "      <td>1.986585</td>\n",
       "      <td>-4.024992</td>\n",
       "    </tr>\n",
       "    <tr>\n",
       "      <td>4</td>\n",
       "      <td>-2.439814</td>\n",
       "      <td>-16.374826</td>\n",
       "    </tr>\n",
       "  </tbody>\n",
       "</table>\n",
       "</div>"
      ],
      "text/plain": [
       "          x          y\n",
       "0 -0.254599  45.835580\n",
       "1  5.507143  68.448152\n",
       "2  3.319939  -0.951031\n",
       "3  1.986585  -4.024992\n",
       "4 -2.439814 -16.374826"
      ]
     },
     "execution_count": 26,
     "metadata": {},
     "output_type": "execute_result"
    }
   ],
   "source": [
    "train=pd.read_csv('./H1_train.csv')\n",
    "train=train.drop('Unnamed: 0',axis=1)\n",
    "train.head()"
   ]
  },
  {
   "cell_type": "code",
   "execution_count": 27,
   "metadata": {},
   "outputs": [
    {
     "data": {
      "text/html": [
       "<div>\n",
       "<style scoped>\n",
       "    .dataframe tbody tr th:only-of-type {\n",
       "        vertical-align: middle;\n",
       "    }\n",
       "\n",
       "    .dataframe tbody tr th {\n",
       "        vertical-align: top;\n",
       "    }\n",
       "\n",
       "    .dataframe thead th {\n",
       "        text-align: right;\n",
       "    }\n",
       "</style>\n",
       "<table border=\"1\" class=\"dataframe\">\n",
       "  <thead>\n",
       "    <tr style=\"text-align: right;\">\n",
       "      <th></th>\n",
       "      <th>Unnamed: 0</th>\n",
       "      <th>x</th>\n",
       "      <th>y</th>\n",
       "    </tr>\n",
       "  </thead>\n",
       "  <tbody>\n",
       "    <tr>\n",
       "      <td>0</td>\n",
       "      <td>0</td>\n",
       "      <td>4.925590</td>\n",
       "      <td>43.457301</td>\n",
       "    </tr>\n",
       "    <tr>\n",
       "      <td>1</td>\n",
       "      <td>1</td>\n",
       "      <td>1.393422</td>\n",
       "      <td>7.250231</td>\n",
       "    </tr>\n",
       "    <tr>\n",
       "      <td>2</td>\n",
       "      <td>2</td>\n",
       "      <td>4.074402</td>\n",
       "      <td>-35.916978</td>\n",
       "    </tr>\n",
       "    <tr>\n",
       "      <td>3</td>\n",
       "      <td>3</td>\n",
       "      <td>4.960913</td>\n",
       "      <td>37.753777</td>\n",
       "    </tr>\n",
       "    <tr>\n",
       "      <td>4</td>\n",
       "      <td>4</td>\n",
       "      <td>-0.819965</td>\n",
       "      <td>32.540487</td>\n",
       "    </tr>\n",
       "  </tbody>\n",
       "</table>\n",
       "</div>"
      ],
      "text/plain": [
       "   Unnamed: 0         x          y\n",
       "0           0  4.925590  43.457301\n",
       "1           1  1.393422   7.250231\n",
       "2           2  4.074402 -35.916978\n",
       "3           3  4.960913  37.753777\n",
       "4           4 -0.819965  32.540487"
      ]
     },
     "execution_count": 27,
     "metadata": {},
     "output_type": "execute_result"
    }
   ],
   "source": [
    "test=pd.read_csv('./H1_test.csv')\n",
    "tes=test.drop('Unnamed: 0',axis=1)\n",
    "test.head()"
   ]
  },
  {
   "cell_type": "code",
   "execution_count": 28,
   "metadata": {
    "scrolled": true
   },
   "outputs": [
    {
     "data": {
      "text/plain": [
       "Text(0, 0.5, 'target value y')"
      ]
     },
     "execution_count": 28,
     "metadata": {},
     "output_type": "execute_result"
    },
    {
     "data": {
      "image/png": "[encoded data removed]",
      "text/plain": [
       "<Figure size 432x288 with 1 Axes>"
      ]
     },
     "metadata": {
      "needs_background": "light"
     },
     "output_type": "display_data"
    }
   ],
   "source": [
    "trainx=train.loc[:,'x']\n",
    "trainy=train.loc[:,'y']\n",
    "#1 Create a scatter plot of training data\n",
    "%config lnlineBackend.figure_format = 'retina'\n",
    "plt.scatter(trainx,trainy)\n",
    "plt.title('figure of training data')\n",
    "plt.xlabel('independent variable x')\n",
    "plt.ylabel('target value y')"
   ]
  },
  {
   "cell_type": "code",
   "execution_count": 29,
   "metadata": {},
   "outputs": [
    {
     "name": "stdout",
     "output_type": "stream",
     "text": [
      "R^2 of the training data is 0.06486123304769709\n",
      "Mean square error of the training data is 28.132130156995053\n",
      "Coefficient a1 is [[2.59072826]]\n",
      "Coefficient a0 is [17.20492818]\n"
     ]
    }
   ],
   "source": [
    "from sklearn.linear_model import LinearRegression,Perceptron\n",
    "from sklearn.metrics import mean_squared_error,r2_score\n",
    "reg=LinearRegression()\n",
    "trainx=trainx.values.reshape(-1,1)\n",
    "trainy=trainy.values.reshape(-1,1)\n",
    "reg.fit(trainx,trainy)#pay attention that series cannot be reshaped\n",
    "trainypredict=reg.predict(trainx)\n",
    "r2score=r2_score(trainy,trainypredict)\n",
    "print('R^2 of the training data is '+str(r2score))\n",
    "mse=np.sqrt(mean_squared_error(trainy,trainypredict))\n",
    "print('Mean square error of the training data is '+str(mse))\n",
    "print('Coefficient a1 is '+str(reg.coef_))\n",
    "print('Coefficient a0 is '+str(reg.intercept_))"
   ]
  },
  {
   "cell_type": "markdown",
   "metadata": {},
   "source": [
    "$ y=17.20492818+2.59072826x $\n"
   ]
  },
  {
   "cell_type": "code",
   "execution_count": 30,
   "metadata": {},
   "outputs": [],
   "source": [
    "import math\n",
    "traintx=[]\n",
    "for i in trainx:\n",
    "    for j in i:\n",
    "        traintx.append([j,j**2,j**3])"
   ]
  },
  {
   "cell_type": "code",
   "execution_count": 31,
   "metadata": {},
   "outputs": [
    {
     "name": "stdout",
     "output_type": "stream",
     "text": [
      "R^2 of the training data is 0.3963378411290073\n",
      "Mean square error of the training data is 22.6027646837884\n",
      "Coefficient a1 is [[-9.25191526 -2.12568583  0.89700921]]\n",
      "Coefficient a0 is [24.15543416]\n"
     ]
    }
   ],
   "source": [
    "regt=LinearRegression()\n",
    "regt.fit(traintx,trainy)\n",
    "trainytpredict=regt.predict(traintx)\n",
    "r2scoret=r2_score(trainy,trainytpredict)\n",
    "print('R^2 of the training data is '+str(r2scoret))\n",
    "mset=np.sqrt(mean_squared_error(trainy,trainytpredict))\n",
    "print('Mean square error of the training data is '+str(mset))\n",
    "print('Coefficient a1, a2 and a3 are '+str(regt.coef_))\n",
    "print('Coefficient a0 is '+str(regt.intercept_))"
   ]
  },
  {
   "cell_type": "markdown",
   "metadata": {},
   "source": [
    "$y=24.15543416-9.25191526x-2.12568583x^2+0.89700921x^3 $"
   ]
  },
  {
   "cell_type": "code",
   "execution_count": 32,
   "metadata": {},
   "outputs": [
    {
     "data": {
      "text/plain": [
       "<matplotlib.legend.Legend at 0x1a27d38650>"
      ]
     },
     "execution_count": 32,
     "metadata": {},
     "output_type": "execute_result"
    },
    {
     "data": {
      "image/png": "[encoded data removed]",
      "text/plain": [
       "<Figure size 432x288 with 1 Axes>"
      ]
     },
     "metadata": {
      "needs_background": "light"
     },
     "output_type": "display_data"
    }
   ],
   "source": [
    "import matplotlib.pyplot as plt\n",
    "import scikitplot as skplt\n",
    "%config lnlineBackend.figure_format = 'retina'\n",
    "plt.scatter(trainx,trainy)\n",
    "plt.plot(trainx,trainypredict,label='linear regression')\n",
    "yrt=[]\n",
    "yr=[]\n",
    "xr=[]\n",
    "a=np.arange(-4,6)\n",
    "for x in a:\n",
    "    if x!=0:\n",
    "        xr.append(x)\n",
    "        yrt.append(24.15543416-9.25191526*x-2.12568583*x**2+0.89700921*x**3)\n",
    "        yr.append(17.20492818+2.59072826*x)\n",
    "\n",
    "plt.plot(xr,yrt,label='multiple regression')\n",
    "plt.title('figure of training data and fitting curve')\n",
    "plt.xlabel('independent variable x')\n",
    "plt.ylabel('target value y')\n",
    "plt.legend()"
   ]
  },
  {
   "cell_type": "code",
   "execution_count": 36,
   "metadata": {},
   "outputs": [
    {
     "name": "stdout",
     "output_type": "stream",
     "text": [
      "R^2 of the test data use linear regression is -0.13289928472598378\n",
      "Mean square error of the test data use linear regression is 33.416511436139\n",
      "R^2 of the test data use multiple regression is 0.2294538470854115\n",
      "Mean square error of the test data use multiple regression is 27.559084479256\n"
     ]
    }
   ],
   "source": [
    "testx=test['x'].values.reshape(-1,1)\n",
    "testy=test['y'].values.reshape(-1,1)\n",
    "testypredict=reg.predict(testx)\n",
    "r2test=r2_score(testy,testypredict)\n",
    "print('R^2 of the test data use linear regression is '+str(r2test))\n",
    "msetest=np.sqrt(mean_squared_error(testy,testypredict))\n",
    "print('Mean square error of the test data use linear regression is '+str(msetest))\n",
    "\n",
    "testxt=[]\n",
    "for i in testx:\n",
    "    for j in i:\n",
    "        testxt.append([j,j**2,j**3])\n",
    "testytpredict=regt.predict(testxt)\n",
    "r2testt=r2_score(testy,testytpredict)\n",
    "print('R^2 of the test data use multiple regression is '+str(r2testt))\n",
    "msetestt=np.sqrt(mean_squared_error(testy,testytpredict))\n",
    "print('Mean square error of the test data use multiple regression is '+str(msetestt))"
   ]
  },
  {
   "cell_type": "markdown",
   "metadata": {},
   "source": [
    "The multiple regression model is better, beecause it has gigger $R^2$ score and smaller mean square error which means it has smaller errors."
   ]
  },
  {
   "cell_type": "markdown",
   "metadata": {},
   "source": [
    "The predictive capability of your model will be decreased. Since the model only fits the data points that follow certain rule, when the test data are ssignificantly different from the training data, the mean value of loss function will be very large which means the low predictive ability of the model."
   ]
  },
  {
   "cell_type": "code",
   "execution_count": null,
   "metadata": {},
   "outputs": [],
   "source": []
  }
 ],
 "metadata": {
  "kernelspec": {
   "display_name": "Python 3",
   "language": "python",
   "name": "python3"
  },
  "language_info": {
   "codemirror_mode": {
    "name": "ipython",
    "version": 3
   },
   "file_extension": ".py",
   "mimetype": "text/x-python",
   "name": "python",
   "nbconvert_exporter": "python",
   "pygments_lexer": "ipython3",
   "version": "3.7.4"
  },
  "varInspector": {
   "cols": {
    "lenName": 16,
    "lenType": 16,
    "lenVar": 40
   },
   "kernels_config": {
    "python": {
     "delete_cmd_postfix": "",
     "delete_cmd_prefix": "del ",
     "library": "var_list.py",
     "varRefreshCmd": "print(var_dic_list())"
    },
    "r": {
     "delete_cmd_postfix": ") ",
     "delete_cmd_prefix": "rm(",
     "library": "var_list.r",
     "varRefreshCmd": "cat(var_dic_list()) "
    }
   },
   "types_to_exclude": [
    "module",
    "function",
    "builtin_function_or_method",
    "instance",
    "_Feature"
   ],
   "window_display": false
  }
 },
 "nbformat": 4,
 "nbformat_minor": 2
}
