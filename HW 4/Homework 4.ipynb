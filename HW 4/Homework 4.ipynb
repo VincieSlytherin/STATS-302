{
 "cells": [
  {
   "cell_type": "markdown",
   "metadata": {},
   "source": [
    "# Homework 4 - Classification and Clustering "
   ]
  },
  {
   "cell_type": "markdown",
   "metadata": {},
   "source": [
    "## *Ran Ju*\n",
    "Netid: rj133"
   ]
  },
  {
   "cell_type": "markdown",
   "metadata": {},
   "source": [
    "# 1) Conceptual questions\n",
    "### (1.5 points total)\n",
    "\n",
    "**(a)** Considering a binary problem: Is it possible to compute an ROC curve for a 5-Nearest Neighbor classifier? (0.5 points)  Is it possible to compute an ROC curve for a decision tree with no limitation on the maximal depth?  (0.5 points) Explain your answers.\n",
    "\n",
    "**(b)** You produce ten bootstrapped samples from a data set containing classes A and B. Then you use a pre-trained logistic regression classifier on each sample and produce ten estimates of P(class = A): {0.1, 0.15, 0.2, 0.2, 0.55, 0.6, 0.6, 0.65, 0.7, 0.75}. What are the predictions of a soft voting and a hard voting classifier? (0.5 points)\n",
    "\n"
   ]
  },
  {
   "cell_type": "code",
   "execution_count": null,
   "metadata": {},
   "outputs": [],
   "source": []
  },
  {
   "cell_type": "markdown",
   "metadata": {},
   "source": [
    "**ANSWER**"
   ]
  },
  {
   "cell_type": "markdown",
   "metadata": {},
   "source": [
    "# 2) k-means clustering \n",
    "### (5 points total)\n",
    "\n",
    "\n",
    "**(a)** Use make_blobs from `scikit-learn` to create two datasets  with 2 and 5 cluster centers, each containing 5000 samples with 2 features (0.5 points). \n",
    "\n",
    "**(b)** For both datasets run the k-means algorithm with k=5. Plot the results using different colors to indicate the clusters (0.5 points). \n",
    "\n",
    "**(c)**  Use the cluster centers from (b) to compute the sum of square error (i.e. loop over all datapoints) (2 points). \n",
    "\n",
    "**(d)** For both dataset run the k-means algorithm for values of k from 1 to 10 and then plot the \"elbow curve\" using the sum of square error. (1.5 points)\n",
    "\n",
    "**(e)**  For both dataset, discuss if the elbow method works (0.5 points)."
   ]
  },
  {
   "cell_type": "markdown",
   "metadata": {},
   "source": [
    "**ANSWER**"
   ]
  },
  {
   "cell_type": "markdown",
   "metadata": {},
   "source": [
    "# 3) Bias-variance tradeoff for the kNN classifier\n",
    "### (3.5 points total)\n",
    "\n",
    "\n",
    "**(a)** use make moon to create a dataset of 1000 random samples with noise=0.35. Scatterplot the dataset. (0.5 points)\n",
    "\n",
    "**(b)** Select 100 of the 1000 data points at random. Use this dataset to train three k-Nearest Neighbor classifiers with $k = \\{1, 20, 140\\}$ (1 point).\n",
    "\n",
    "**(c)** Create three plots showing the three decision boundaries together with the training data (0.5 points). \n",
    "\n",
    "**(d)** Split the dataset from (a) in two equal sized test and training datasets. Train a kNN classifier on your training set for k=1,2,...140. Apply each of these trained classifiers to both your training dataset and your test dataset and plot the classification error (fraction of mislabeled datapoints) using a logarithmic x-axis (1.5 points). "
   ]
  },
  {
   "cell_type": "markdown",
   "metadata": {},
   "source": [
    "**ANSWER**"
   ]
  },
  {
   "cell_type": "code",
   "execution_count": null,
   "metadata": {},
   "outputs": [],
   "source": []
  }
 ],
 "metadata": {
  "kernelspec": {
   "display_name": "Python 3",
   "language": "python",
   "name": "python3"
  },
  "language_info": {
   "codemirror_mode": {
    "name": "ipython",
    "version": 3
   },
   "file_extension": ".py",
   "mimetype": "text/x-python",
   "name": "python",
   "nbconvert_exporter": "python",
   "pygments_lexer": "ipython3",
   "version": "3.7.4"
  },
  "varInspector": {
   "cols": {
    "lenName": 16,
    "lenType": 16,
    "lenVar": 40
   },
   "kernels_config": {
    "python": {
     "delete_cmd_postfix": "",
     "delete_cmd_prefix": "del ",
     "library": "var_list.py",
     "varRefreshCmd": "print(var_dic_list())"
    },
    "r": {
     "delete_cmd_postfix": ") ",
     "delete_cmd_prefix": "rm(",
     "library": "var_list.r",
     "varRefreshCmd": "cat(var_dic_list()) "
    }
   },
   "types_to_exclude": [
    "module",
    "function",
    "builtin_function_or_method",
    "instance",
    "_Feature"
   ],
   "window_display": false
  }
 },
 "nbformat": 4,
 "nbformat_minor": 2
}
