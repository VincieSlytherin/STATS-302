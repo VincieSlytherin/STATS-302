{
 "cells": [
  {
   "cell_type": "markdown",
   "metadata": {},
   "source": [
    "# Homework 2 - Probability Theory and Logistic Regression\n",
    "\n",
    "## *Ran Ju*\n",
    "Netid:  *rj133*"
   ]
  },
  {
   "cell_type": "markdown",
   "metadata": {},
   "source": [
    "## 1\n",
    "**[1.5 points]**\n",
    "For each part (a) through (c), indicate whether we would generally expect the performance of a flexible (more complex) statistical learning method to be better or worse than an inflexible method. Justify your answer.\n",
    "\n",
    "a. The sample size $n$ is extremely large, and the number of features $p$ is small.\n",
    "\n",
    "b. The number of features $p$ is extremely large, and the number of observations $n$ is small.\n",
    "\n",
    "c. The relationship between the features and target variable is highly non-linear."
   ]
  },
  {
   "cell_type": "markdown",
   "metadata": {},
   "source": [
    "**ANSWER**"
   ]
  },
  {
   "cell_type": "markdown",
   "metadata": {},
   "source": [
    "a.  A flexible statistical learning method would preform **better** because the large n will reduces the risk of overfitting, which is the biggest problem with highly flexible methods."
   ]
  },
  {
   "cell_type": "markdown",
   "metadata": {},
   "source": [
    "b. A flexible statistical learning method would preform **worse** because there is a great risk of overfitting."
   ]
  },
  {
   "cell_type": "markdown",
   "metadata": {},
   "source": [
    "c. A flexible statistical learning method would preform **better** because it is more easily to fit the non-linear function than the inflexible model."
   ]
  },
  {
   "cell_type": "markdown",
   "metadata": {},
   "source": [
    "## 2\n",
    "**[1.5 points]** For each of the following, (i) explain if each scenario is a classification or regression problem and (ii) provide the sample size $n$ and number of features $p$ indicated for each scenario.\n",
    "\n",
    "**(a)** We collect a set of data on the top 500 firms in the US. For each firm we record profit, number of employees, industry and the CEO salary. We are interested in understanding which factors affect CEO salary.\n",
    "\n",
    "**(b)** We are considering launching a new product and wish to know whether it will be a success or a failure. We collect data on 20 similar products that were previously launched. For each product we have recorded whether it was a success or failure, price charged for the product, marketing budget, competition price, and ten other variables.\n",
    "\n",
    "**(c)** We are interesting in predicting the % change in the US dollar in relation to the weekly changes in the world stock markets. Hence we collect weekly data for all of 2012. For each week we record the % change in the dollar, the % change in the US market, the % change in the British market, and the % change in the German market."
   ]
  },
  {
   "cell_type": "markdown",
   "metadata": {},
   "source": [
    "**ANSWER**"
   ]
  },
  {
   "cell_type": "markdown",
   "metadata": {},
   "source": [
    "(a)&nbsp;&nbsp;(i)  It is a **regresion** problem because we want to know how the variables affect a continuous variable.<br>\n",
    "&nbsp;&nbsp;&nbsp;&nbsp;&nbsp;&nbsp;(ii) $n=500$ because there are 500 fiirms to provide the data. $p=3$ because profit, number of employees and salary are the factors that have effect on the CEO salary."
   ]
  },
  {
   "cell_type": "markdown",
   "metadata": {},
   "source": [
    "(b)&nbsp;&nbsp;(i)  It is a **classification** problem because we only care about it is success or failure which is a binary selection.<br>\n",
    "&nbsp;&nbsp;&nbsp;&nbsp;&nbsp;&nbsp;(ii) $n=20$ because there are 20 similar products. $p=13$ because there are price charged for the product, marketing budget, competition price, and ten other variables that have effect on the result."
   ]
  },
  {
   "cell_type": "markdown",
   "metadata": {},
   "source": [
    "c)&nbsp;&nbsp;(i)  It is a **regresion** problem because we want to know % change in the US dollar which is a continuous number in relation to the weekly changes in the &nbsp;&nbsp;&nbsp;&nbsp;&nbsp;&nbsp;&nbsp;&nbsp;&nbsp;world stock markets.<br>\n",
    "&nbsp;&nbsp;&nbsp;&nbsp;&nbsp;(ii) $n=52$ because there are 52 weeks in 2012. $p=3$ because the world stock market is related with three parts, the % change in the US market, the % change in the British market, and the % change in the German market."
   ]
  },
  {
   "cell_type": "markdown",
   "metadata": {},
   "source": [
    "## 3\n",
    "**[2 point]** Suppose that we have three coloured boxes r (red), b (blue), and g (green).\n",
    "Box r contains 3 apples, 4 oranges, and 3 limes, box b contains 1 apple, 1 orange,\n",
    "and 0 limes, and box g contains 3 apples, 3 oranges, and 4 limes. \n",
    "\n",
    "**(a)** If a box is chosen\n",
    "at random with probabilities p(r) = 0.2, p(b) = 0.2, p(g) = 0.6, and a piece of\n",
    "fruit is removed from the box (with equal probability of selecting any of the items in\n",
    "the box), then what is the probability of selecting an apple?\n",
    "\n",
    "**(b)** If we observe that the\n",
    "selected fruit is in fact an orange, what is the probability that it came from the green\n",
    "box?\n",
    "\n",
    "Explain your reasoning."
   ]
  },
  {
   "cell_type": "markdown",
   "metadata": {},
   "source": [
    "**ANSWER**:"
   ]
  },
  {
   "cell_type": "markdown",
   "metadata": {},
   "source": [
    "(a) The probability is 0.34. Because $$P(apple)=P(apple|red)+P(apple |blue)+P(apple|green)$$$$=0.2\\times(\\frac{3}{3+4+3})+0.2\\times(\\frac{1}{1+1+0})+0.6\\times(\\frac{3}{3+3+4})=0.5$$"
   ]
  },
  {
   "cell_type": "markdown",
   "metadata": {},
   "source": [
    "(b) The probability is 0.5. Because $$P(green|orage)=\\frac{P(green)P(orage|green)}{P(orage)}$$$$=\\frac{0.6\\times(\\frac{3}{3+4+3})}{0.2\\times(\\frac{4}{3+3+4})+0.2\\times(\\frac{1}{1+1+0})+0.6\\times(\\frac{3}{3+3+4})}=0.5$$"
   ]
  },
  {
   "cell_type": "markdown",
   "metadata": {},
   "source": [
    "## 4\n",
    "**[5 points] Participate in the Kaggle Titanic Machine Learning Challenge**.\n",
    "\n",
    "[Kaggle](https://en.wikipedia.org/wiki/Kaggle) is a platform that hosts machine learning competitions, notebooks, and datasets. This exercise will get you started with participating\n",
    "in Kaggle competitions, a skill you will need in week four of this course. \n",
    "\n",
    "**(a)** [1 point] Create an account on Kaggle and sent your username via email to Chenglong Tang (ct265@duke.edu). Your username has to be either your real name, your netid, or a pseudonym you sent him via email _before_ you open the account. If you already have a Kaggle account, you probably will have trouble to open a second one $\\rightarrow$ sent me an email. \n",
    "\n",
    "Then participate in the [Titanic: Machine Learning from Disaster](https://www.kaggle.com/c/titanic/overview) competition. Ressources that help you get started \n",
    "are [this video](https://www.youtube.com/watch?v=8yZMXCaFshs) and [Alexis Cook tutorial](https://www.kaggle.com/alexisbcook/titanic-tutorial). However, you should not use a Kaggle\n",
    "notebook and instead write your Python code on your own computer.  \n",
    "\n",
    "**(b)** [2 points] Write a notebook that uses logistic regression, at least three different features, and 3 fold cross-validation. Then make a prediction for the test data set.\n",
    "\n",
    "**(c)** [1 point] Add $L_1$ regularization to your notebook and use GridSearchCV to determine the best regularization strength.\n",
    "\n",
    "**(d)** [1 point] make a submission to the Titanic contest and document it with a screenshot of your position at the leaderboard. Your Ranking does not matter. \n",
    "\n",
    "\n",
    "Besides the PDF containing your code (for questions 4 b and c) and the answers (to  questions 1 to 3), you should also submit an additional notebook which allows to run your code. Run ***restart and clear all*** before you submit the notebook. For (d) you need to submit an image, preferably in JPEG or PNG format."
   ]
  },
  {
   "cell_type": "markdown",
   "metadata": {},
   "source": [
    "**ANSWER**"
   ]
  },
  {
   "cell_type": "code",
   "execution_count": 1,
   "metadata": {},
   "outputs": [
    {
     "data": {
      "text/html": [
       "<div>\n",
       "<style scoped>\n",
       "    .dataframe tbody tr th:only-of-type {\n",
       "        vertical-align: middle;\n",
       "    }\n",
       "\n",
       "    .dataframe tbody tr th {\n",
       "        vertical-align: top;\n",
       "    }\n",
       "\n",
       "    .dataframe thead th {\n",
       "        text-align: right;\n",
       "    }\n",
       "</style>\n",
       "<table border=\"1\" class=\"dataframe\">\n",
       "  <thead>\n",
       "    <tr style=\"text-align: right;\">\n",
       "      <th></th>\n",
       "      <th>PassengerId</th>\n",
       "      <th>Survived</th>\n",
       "      <th>Pclass</th>\n",
       "      <th>Name</th>\n",
       "      <th>Sex</th>\n",
       "      <th>Age</th>\n",
       "      <th>SibSp</th>\n",
       "      <th>Parch</th>\n",
       "      <th>Ticket</th>\n",
       "      <th>Fare</th>\n",
       "      <th>Cabin</th>\n",
       "      <th>Embarked</th>\n",
       "    </tr>\n",
       "  </thead>\n",
       "  <tbody>\n",
       "    <tr>\n",
       "      <td>0</td>\n",
       "      <td>1</td>\n",
       "      <td>0</td>\n",
       "      <td>3</td>\n",
       "      <td>Braund, Mr. Owen Harris</td>\n",
       "      <td>male</td>\n",
       "      <td>22.0</td>\n",
       "      <td>1</td>\n",
       "      <td>0</td>\n",
       "      <td>A/5 21171</td>\n",
       "      <td>7.2500</td>\n",
       "      <td>NaN</td>\n",
       "      <td>S</td>\n",
       "    </tr>\n",
       "    <tr>\n",
       "      <td>1</td>\n",
       "      <td>2</td>\n",
       "      <td>1</td>\n",
       "      <td>1</td>\n",
       "      <td>Cumings, Mrs. John Bradley (Florence Briggs Th...</td>\n",
       "      <td>female</td>\n",
       "      <td>38.0</td>\n",
       "      <td>1</td>\n",
       "      <td>0</td>\n",
       "      <td>PC 17599</td>\n",
       "      <td>71.2833</td>\n",
       "      <td>C85</td>\n",
       "      <td>C</td>\n",
       "    </tr>\n",
       "    <tr>\n",
       "      <td>2</td>\n",
       "      <td>3</td>\n",
       "      <td>1</td>\n",
       "      <td>3</td>\n",
       "      <td>Heikkinen, Miss. Laina</td>\n",
       "      <td>female</td>\n",
       "      <td>26.0</td>\n",
       "      <td>0</td>\n",
       "      <td>0</td>\n",
       "      <td>STON/O2. 3101282</td>\n",
       "      <td>7.9250</td>\n",
       "      <td>NaN</td>\n",
       "      <td>S</td>\n",
       "    </tr>\n",
       "    <tr>\n",
       "      <td>3</td>\n",
       "      <td>4</td>\n",
       "      <td>1</td>\n",
       "      <td>1</td>\n",
       "      <td>Futrelle, Mrs. Jacques Heath (Lily May Peel)</td>\n",
       "      <td>female</td>\n",
       "      <td>35.0</td>\n",
       "      <td>1</td>\n",
       "      <td>0</td>\n",
       "      <td>113803</td>\n",
       "      <td>53.1000</td>\n",
       "      <td>C123</td>\n",
       "      <td>S</td>\n",
       "    </tr>\n",
       "    <tr>\n",
       "      <td>4</td>\n",
       "      <td>5</td>\n",
       "      <td>0</td>\n",
       "      <td>3</td>\n",
       "      <td>Allen, Mr. William Henry</td>\n",
       "      <td>male</td>\n",
       "      <td>35.0</td>\n",
       "      <td>0</td>\n",
       "      <td>0</td>\n",
       "      <td>373450</td>\n",
       "      <td>8.0500</td>\n",
       "      <td>NaN</td>\n",
       "      <td>S</td>\n",
       "    </tr>\n",
       "  </tbody>\n",
       "</table>\n",
       "</div>"
      ],
      "text/plain": [
       "   PassengerId  Survived  Pclass  \\\n",
       "0            1         0       3   \n",
       "1            2         1       1   \n",
       "2            3         1       3   \n",
       "3            4         1       1   \n",
       "4            5         0       3   \n",
       "\n",
       "                                                Name     Sex   Age  SibSp  \\\n",
       "0                            Braund, Mr. Owen Harris    male  22.0      1   \n",
       "1  Cumings, Mrs. John Bradley (Florence Briggs Th...  female  38.0      1   \n",
       "2                             Heikkinen, Miss. Laina  female  26.0      0   \n",
       "3       Futrelle, Mrs. Jacques Heath (Lily May Peel)  female  35.0      1   \n",
       "4                           Allen, Mr. William Henry    male  35.0      0   \n",
       "\n",
       "   Parch            Ticket     Fare Cabin Embarked  \n",
       "0      0         A/5 21171   7.2500   NaN        S  \n",
       "1      0          PC 17599  71.2833   C85        C  \n",
       "2      0  STON/O2. 3101282   7.9250   NaN        S  \n",
       "3      0            113803  53.1000  C123        S  \n",
       "4      0            373450   8.0500   NaN        S  "
      ]
     },
     "execution_count": 1,
     "metadata": {},
     "output_type": "execute_result"
    }
   ],
   "source": [
    "# import necessary library and package\n",
    "import pandas as pd\n",
    "import numpy as np\n",
    "import seaborn as sns\n",
    "%matplotlib inline\n",
    "\n",
    "import matplotlib.pyplot as plt\n",
    "\n",
    "train=pd.read_csv('./train.csv')#load training data\n",
    "train.head()"
   ]
  },
  {
   "cell_type": "code",
   "execution_count": 2,
   "metadata": {},
   "outputs": [
    {
     "data": {
      "text/html": [
       "<div>\n",
       "<style scoped>\n",
       "    .dataframe tbody tr th:only-of-type {\n",
       "        vertical-align: middle;\n",
       "    }\n",
       "\n",
       "    .dataframe tbody tr th {\n",
       "        vertical-align: top;\n",
       "    }\n",
       "\n",
       "    .dataframe thead th {\n",
       "        text-align: right;\n",
       "    }\n",
       "</style>\n",
       "<table border=\"1\" class=\"dataframe\">\n",
       "  <thead>\n",
       "    <tr style=\"text-align: right;\">\n",
       "      <th></th>\n",
       "      <th>PassengerId</th>\n",
       "      <th>Survived</th>\n",
       "      <th>Pclass</th>\n",
       "      <th>Age</th>\n",
       "      <th>SibSp</th>\n",
       "      <th>Parch</th>\n",
       "      <th>Fare</th>\n",
       "    </tr>\n",
       "  </thead>\n",
       "  <tbody>\n",
       "    <tr>\n",
       "      <td>count</td>\n",
       "      <td>891.000000</td>\n",
       "      <td>891.000000</td>\n",
       "      <td>891.000000</td>\n",
       "      <td>714.000000</td>\n",
       "      <td>891.000000</td>\n",
       "      <td>891.000000</td>\n",
       "      <td>891.000000</td>\n",
       "    </tr>\n",
       "    <tr>\n",
       "      <td>mean</td>\n",
       "      <td>446.000000</td>\n",
       "      <td>0.383838</td>\n",
       "      <td>2.308642</td>\n",
       "      <td>29.699118</td>\n",
       "      <td>0.523008</td>\n",
       "      <td>0.381594</td>\n",
       "      <td>32.204208</td>\n",
       "    </tr>\n",
       "    <tr>\n",
       "      <td>std</td>\n",
       "      <td>257.353842</td>\n",
       "      <td>0.486592</td>\n",
       "      <td>0.836071</td>\n",
       "      <td>14.526497</td>\n",
       "      <td>1.102743</td>\n",
       "      <td>0.806057</td>\n",
       "      <td>49.693429</td>\n",
       "    </tr>\n",
       "    <tr>\n",
       "      <td>min</td>\n",
       "      <td>1.000000</td>\n",
       "      <td>0.000000</td>\n",
       "      <td>1.000000</td>\n",
       "      <td>0.420000</td>\n",
       "      <td>0.000000</td>\n",
       "      <td>0.000000</td>\n",
       "      <td>0.000000</td>\n",
       "    </tr>\n",
       "    <tr>\n",
       "      <td>25%</td>\n",
       "      <td>223.500000</td>\n",
       "      <td>0.000000</td>\n",
       "      <td>2.000000</td>\n",
       "      <td>20.125000</td>\n",
       "      <td>0.000000</td>\n",
       "      <td>0.000000</td>\n",
       "      <td>7.910400</td>\n",
       "    </tr>\n",
       "    <tr>\n",
       "      <td>50%</td>\n",
       "      <td>446.000000</td>\n",
       "      <td>0.000000</td>\n",
       "      <td>3.000000</td>\n",
       "      <td>28.000000</td>\n",
       "      <td>0.000000</td>\n",
       "      <td>0.000000</td>\n",
       "      <td>14.454200</td>\n",
       "    </tr>\n",
       "    <tr>\n",
       "      <td>75%</td>\n",
       "      <td>668.500000</td>\n",
       "      <td>1.000000</td>\n",
       "      <td>3.000000</td>\n",
       "      <td>38.000000</td>\n",
       "      <td>1.000000</td>\n",
       "      <td>0.000000</td>\n",
       "      <td>31.000000</td>\n",
       "    </tr>\n",
       "    <tr>\n",
       "      <td>max</td>\n",
       "      <td>891.000000</td>\n",
       "      <td>1.000000</td>\n",
       "      <td>3.000000</td>\n",
       "      <td>80.000000</td>\n",
       "      <td>8.000000</td>\n",
       "      <td>6.000000</td>\n",
       "      <td>512.329200</td>\n",
       "    </tr>\n",
       "  </tbody>\n",
       "</table>\n",
       "</div>"
      ],
      "text/plain": [
       "       PassengerId    Survived      Pclass         Age       SibSp  \\\n",
       "count   891.000000  891.000000  891.000000  714.000000  891.000000   \n",
       "mean    446.000000    0.383838    2.308642   29.699118    0.523008   \n",
       "std     257.353842    0.486592    0.836071   14.526497    1.102743   \n",
       "min       1.000000    0.000000    1.000000    0.420000    0.000000   \n",
       "25%     223.500000    0.000000    2.000000   20.125000    0.000000   \n",
       "50%     446.000000    0.000000    3.000000   28.000000    0.000000   \n",
       "75%     668.500000    1.000000    3.000000   38.000000    1.000000   \n",
       "max     891.000000    1.000000    3.000000   80.000000    8.000000   \n",
       "\n",
       "            Parch        Fare  \n",
       "count  891.000000  891.000000  \n",
       "mean     0.381594   32.204208  \n",
       "std      0.806057   49.693429  \n",
       "min      0.000000    0.000000  \n",
       "25%      0.000000    7.910400  \n",
       "50%      0.000000   14.454200  \n",
       "75%      0.000000   31.000000  \n",
       "max      6.000000  512.329200  "
      ]
     },
     "execution_count": 2,
     "metadata": {},
     "output_type": "execute_result"
    }
   ],
   "source": [
    "train.describe()# the situation of the features"
   ]
  },
  {
   "cell_type": "code",
   "execution_count": 3,
   "metadata": {},
   "outputs": [
    {
     "data": {
      "text/html": [
       "<div>\n",
       "<style scoped>\n",
       "    .dataframe tbody tr th:only-of-type {\n",
       "        vertical-align: middle;\n",
       "    }\n",
       "\n",
       "    .dataframe tbody tr th {\n",
       "        vertical-align: top;\n",
       "    }\n",
       "\n",
       "    .dataframe thead th {\n",
       "        text-align: right;\n",
       "    }\n",
       "</style>\n",
       "<table border=\"1\" class=\"dataframe\">\n",
       "  <thead>\n",
       "    <tr style=\"text-align: right;\">\n",
       "      <th></th>\n",
       "      <th>Survived</th>\n",
       "      <th>Pclass</th>\n",
       "      <th>Age</th>\n",
       "      <th>SibSp</th>\n",
       "      <th>Parch</th>\n",
       "      <th>Fare</th>\n",
       "    </tr>\n",
       "  </thead>\n",
       "  <tbody>\n",
       "    <tr>\n",
       "      <td>count</td>\n",
       "      <td>891.000000</td>\n",
       "      <td>891.000000</td>\n",
       "      <td>891.000000</td>\n",
       "      <td>891.000000</td>\n",
       "      <td>891.000000</td>\n",
       "      <td>891.000000</td>\n",
       "    </tr>\n",
       "    <tr>\n",
       "      <td>mean</td>\n",
       "      <td>0.383838</td>\n",
       "      <td>2.308642</td>\n",
       "      <td>29.699118</td>\n",
       "      <td>0.523008</td>\n",
       "      <td>0.381594</td>\n",
       "      <td>32.204208</td>\n",
       "    </tr>\n",
       "    <tr>\n",
       "      <td>std</td>\n",
       "      <td>0.486592</td>\n",
       "      <td>0.836071</td>\n",
       "      <td>13.002015</td>\n",
       "      <td>1.102743</td>\n",
       "      <td>0.806057</td>\n",
       "      <td>49.693429</td>\n",
       "    </tr>\n",
       "    <tr>\n",
       "      <td>min</td>\n",
       "      <td>0.000000</td>\n",
       "      <td>1.000000</td>\n",
       "      <td>0.420000</td>\n",
       "      <td>0.000000</td>\n",
       "      <td>0.000000</td>\n",
       "      <td>0.000000</td>\n",
       "    </tr>\n",
       "    <tr>\n",
       "      <td>25%</td>\n",
       "      <td>0.000000</td>\n",
       "      <td>2.000000</td>\n",
       "      <td>22.000000</td>\n",
       "      <td>0.000000</td>\n",
       "      <td>0.000000</td>\n",
       "      <td>7.910400</td>\n",
       "    </tr>\n",
       "    <tr>\n",
       "      <td>50%</td>\n",
       "      <td>0.000000</td>\n",
       "      <td>3.000000</td>\n",
       "      <td>29.699118</td>\n",
       "      <td>0.000000</td>\n",
       "      <td>0.000000</td>\n",
       "      <td>14.454200</td>\n",
       "    </tr>\n",
       "    <tr>\n",
       "      <td>75%</td>\n",
       "      <td>1.000000</td>\n",
       "      <td>3.000000</td>\n",
       "      <td>35.000000</td>\n",
       "      <td>1.000000</td>\n",
       "      <td>0.000000</td>\n",
       "      <td>31.000000</td>\n",
       "    </tr>\n",
       "    <tr>\n",
       "      <td>max</td>\n",
       "      <td>1.000000</td>\n",
       "      <td>3.000000</td>\n",
       "      <td>80.000000</td>\n",
       "      <td>8.000000</td>\n",
       "      <td>6.000000</td>\n",
       "      <td>512.329200</td>\n",
       "    </tr>\n",
       "  </tbody>\n",
       "</table>\n",
       "</div>"
      ],
      "text/plain": [
       "         Survived      Pclass         Age       SibSp       Parch        Fare\n",
       "count  891.000000  891.000000  891.000000  891.000000  891.000000  891.000000\n",
       "mean     0.383838    2.308642   29.699118    0.523008    0.381594   32.204208\n",
       "std      0.486592    0.836071   13.002015    1.102743    0.806057   49.693429\n",
       "min      0.000000    1.000000    0.420000    0.000000    0.000000    0.000000\n",
       "25%      0.000000    2.000000   22.000000    0.000000    0.000000    7.910400\n",
       "50%      0.000000    3.000000   29.699118    0.000000    0.000000   14.454200\n",
       "75%      1.000000    3.000000   35.000000    1.000000    0.000000   31.000000\n",
       "max      1.000000    3.000000   80.000000    8.000000    6.000000  512.329200"
      ]
     },
     "execution_count": 3,
     "metadata": {},
     "output_type": "execute_result"
    }
   ],
   "source": [
    "import warnings\n",
    "warnings.filterwarnings('ignore')# do not show the warnings\n",
    "def dataprocess(data):\n",
    "    #select the primary features manually\n",
    "    data=data.drop('PassengerId',axis=1)\n",
    "    data=data.drop('Ticket',axis=1)\n",
    "    data=data.drop('Cabin',axis=1)\n",
    "    data=data.drop('Name',axis=1)\n",
    "    # imputation for age\n",
    "    mean=data['Age'].mean()\n",
    "    where_are_nan=data['Age'].isnull()\n",
    "    data['Age'][where_are_nan]=mean\n",
    "    for i in range(len(data['Sex'])):\n",
    "        if data['Sex'][i]=='male':\n",
    "            data['Sex'][i]=0# set male=0 for convenience\n",
    "        else:\n",
    "            data['Sex'][i]=1# set female=1 for convenience\n",
    "    \n",
    "    for i in range(len(data['Embarked'])):\n",
    "        if data['Embarked'][i]=='C':\n",
    "            data['Embarked'][i]=0# set Embarked c=0 for convenience\n",
    "        if data['Embarked'][i]=='Q':\n",
    "            data['Embarked'][i]=1# set Embarked q=1 for convenience\n",
    "        else:\n",
    "            data['Embarked'][i]=2# set Embarked s=2 for convenience\n",
    "    return data\n",
    "datatrain=dataprocess(train)\n",
    "datatrain.describe()"
   ]
  },
  {
   "cell_type": "code",
   "execution_count": 4,
   "metadata": {},
   "outputs": [],
   "source": [
    "trainx=datatrain.drop('Survived',axis=1)\n",
    "trainy=datatrain['Survived']"
   ]
  },
  {
   "cell_type": "code",
   "execution_count": 5,
   "metadata": {},
   "outputs": [
    {
     "data": {
      "image/png": "[encoded data removed]",
      "text/plain": [
       "<Figure size 864x864 with 2 Axes>"
      ]
     },
     "metadata": {
      "needs_background": "light"
     },
     "output_type": "display_data"
    }
   ],
   "source": [
    "%matplotlib inline\n",
    "%config lnlineBackend.figure_format = 'retina'\n",
    "colormap = plt.cm.RdBu# use heatmap we can find the relation between each features\n",
    "plt.figure(figsize=(12,12))\n",
    "plt.title('Pearson Correlation of Features', y=1.05, size=15)\n",
    "ax=sns.heatmap(trainx.astype(float).corr(),linewidths=0.05,vmax=1.0, square=True, \n",
    "            linecolor='white', annot=True)\n",
    "ax.set_ylim([7, 0])\n",
    "plt.show()"
   ]
  },
  {
   "cell_type": "code",
   "execution_count": 6,
   "metadata": {},
   "outputs": [
    {
     "name": "stdout",
     "output_type": "stream",
     "text": [
      "train scores: \n",
      "[0.7861952861952862, 0.797979797979798, 0.7861952861952862]\n",
      "test scores: \n",
      "[0.7912457912457912, 0.7845117845117845, 0.7912457912457912]\n",
      "mean of train scores: 0.7901\n",
      "mean of test scores: 0.7890\n"
     ]
    }
   ],
   "source": [
    "from sklearn.linear_model import LogisticRegression\n",
    "totalnumber=len(trainx)\n",
    "split=totalnumber//3#3-fold cross validation\n",
    "trsl=[]\n",
    "tesl=[]\n",
    "for i in range(3):\n",
    "    testxc=trainx[i*split:(i+1)*split]#split the data \n",
    "    testyc=trainy[i*split:(i+1)*split]#pay attention to set the name else the number in the set will decrease after each round of validation\n",
    "    trainxc=np.concatenate((trainx[0:i*split],trainx[(i+1)*split:]),axis=0)\n",
    "    trainyc=np.concatenate((trainy[0:i*split],trainy[(i+1)*split:]),axis=0)\n",
    "    log_reg=LogisticRegression(penalty='l1',C=0.101)# use the c according to the result of the grid search\n",
    "    log_reg.fit(trainxc,trainyc)\n",
    "    trainscore=log_reg.score(trainxc, trainyc)\n",
    "    trsl.append(trainscore)\n",
    "    testscore=log_reg.score(testxc, testyc)\n",
    "    tesl.append(testscore)\n",
    "print('train scores: ')\n",
    "print(trsl)\n",
    "print('test scores: ')\n",
    "print(tesl)\n",
    "print('mean of train scores: {:.4f}'.format(np.mean(trsl)))\n",
    "print('mean of test scores: {:.4f}'.format( np.mean(tesl)))\n"
   ]
  },
  {
   "cell_type": "code",
   "execution_count": 7,
   "metadata": {},
   "outputs": [
    {
     "name": "stdout",
     "output_type": "stream",
     "text": [
      "train scores: \n",
      "[0.8097643097643098, 0.8047138047138047, 0.803030303030303]\n",
      "test scores: \n",
      "[0.7811447811447811, 0.7811447811447811, 0.8047138047138047]\n",
      "mean of train scores: 0.8058\n",
      "mean of test scores: 0.7890\n"
     ]
    }
   ],
   "source": [
    "from sklearn.linear_model import LogisticRegression\n",
    "totalnumber=len(trainx)\n",
    "split=totalnumber//3#3-fold cross validation\n",
    "trsl=[]\n",
    "tesl=[]\n",
    "for i in range(3):\n",
    "    testxc=trainx[i*split:(i+1)*split]#split the data \n",
    "    testyc=trainy[i*split:(i+1)*split]#pay attention to set the name else the number in the set \n",
    "                                        #will decrease after each round of validation\n",
    "    trainxc=np.concatenate((trainx[0:i*split],trainx[(i+1)*split:]),axis=0)\n",
    "    trainyc=np.concatenate((trainy[0:i*split],trainy[(i+1)*split:]),axis=0)\n",
    "    log_regw=LogisticRegression(penalty='l2',C=1e42)# use the c very large so there is no regularization\n",
    "    log_regw.fit(trainxc,trainyc)\n",
    "    trainscore=log_regw.score(trainxc, trainyc)\n",
    "    trsl.append(trainscore)\n",
    "    testscore=log_regw.score(testxc, testyc)\n",
    "    tesl.append(testscore)\n",
    "print('train scores: ')\n",
    "print(trsl)\n",
    "print('test scores: ')\n",
    "print(tesl)\n",
    "print('mean of train scores: {:.4f}'.format(np.mean(trsl)))\n",
    "print('mean of test scores: {:.4f}'.format( np.mean(tesl)))\n"
   ]
  },
  {
   "cell_type": "markdown",
   "metadata": {},
   "source": [
    "It seems that if there are no regularization here the accuracy will be better. However，when I tried to upload the test results to kaggle, I find the model with regularization will get higher scores."
   ]
  },
  {
   "cell_type": "code",
   "execution_count": 8,
   "metadata": {},
   "outputs": [],
   "source": [
    "test=pd.read_csv('./test.csv')#load testing data\n",
    "testdata=dataprocess(test)\n"
   ]
  },
  {
   "cell_type": "code",
   "execution_count": 9,
   "metadata": {},
   "outputs": [
    {
     "name": "stdout",
     "output_type": "stream",
     "text": [
      "Pclass      0\n",
      "Sex         0\n",
      "Age         0\n",
      "SibSp       0\n",
      "Parch       0\n",
      "Fare        1\n",
      "Embarked    0\n",
      "dtype: int64\n"
     ]
    }
   ],
   "source": [
    "sum=testdata.isna().sum()#find is there any null value in test data\n",
    "print(sum)"
   ]
  },
  {
   "cell_type": "code",
   "execution_count": 10,
   "metadata": {},
   "outputs": [],
   "source": [
    "mean=testdata['Fare'].mean()# beacuse there is a null value in fare so I use the mean value \n",
    "where_are_nan=testdata['Fare'].isnull()\n",
    "testdata['Fare'][where_are_nan]=mean\n",
    "result=log_reg.predict(testdata)\n",
    "pid=pd.DataFrame(columns=['PassengerId'],data=test['PassengerId'])\n",
    "testresult=pd.DataFrame(columns=['Survived'],data=result)\n",
    "testresult=pid.join(testresult)# set the result csv as the form needed include passengerID \n",
    "and whether they are survived      \n",
    "testresult.to_csv('./testdataresult.csv',index=False)"
   ]
  },
  {
   "cell_type": "code",
   "execution_count": 11,
   "metadata": {},
   "outputs": [
    {
     "name": "stdout",
     "output_type": "stream",
     "text": [
      "Best parameters set found on development set:\n",
      "{'C': 0.1010900900900901}\n",
      "The score of best parameters:  \n",
      "0.7935\n",
      "\n"
     ]
    }
   ],
   "source": [
    "from sklearn.model_selection import GridSearchCV\n",
    "c=np.linspace(0.001,10,1000)\n",
    "parameters={'C':c}#select the best regularization strength\n",
    "lg=LogisticRegression(penalty='l1')\n",
    "clf=GridSearchCV(lg,parameters,cv=3)\n",
    "clf.fit(trainx,trainy)\n",
    "print(\"Best parameters set found on development set:\")#print the result\n",
    "print(clf.best_params_)\n",
    "print('The score of best parameters:  ')\n",
    "print('{:.4f}\\n'.format(clf.best_score_))"
   ]
  },
  {
   "cell_type": "markdown",
   "metadata": {},
   "source": [
    "My rank in the leaderboard"
   ]
  },
  {
   "cell_type": "markdown",
   "metadata": {},
   "source": [
    "![rank](./rank.png)"
   ]
  }
 ],
 "metadata": {
  "kernelspec": {
   "display_name": "Python 3",
   "language": "python",
   "name": "python3"
  },
  "language_info": {
   "codemirror_mode": {
    "name": "ipython",
    "version": 3
   },
   "file_extension": ".py",
   "mimetype": "text/x-python",
   "name": "python",
   "nbconvert_exporter": "python",
   "pygments_lexer": "ipython3",
   "version": "3.7.4"
  },
  "varInspector": {
   "cols": {
    "lenName": 16,
    "lenType": 16,
    "lenVar": 40
   },
   "kernels_config": {
    "python": {
     "delete_cmd_postfix": "",
     "delete_cmd_prefix": "del ",
     "library": "var_list.py",
     "varRefreshCmd": "print(var_dic_list())"
    },
    "r": {
     "delete_cmd_postfix": ") ",
     "delete_cmd_prefix": "rm(",
     "library": "var_list.r",
     "varRefreshCmd": "cat(var_dic_list()) "
    }
   },
   "types_to_exclude": [
    "module",
    "function",
    "builtin_function_or_method",
    "instance",
    "_Feature"
   ],
   "window_display": false
  }
 },
 "nbformat": 4,
 "nbformat_minor": 2
}
